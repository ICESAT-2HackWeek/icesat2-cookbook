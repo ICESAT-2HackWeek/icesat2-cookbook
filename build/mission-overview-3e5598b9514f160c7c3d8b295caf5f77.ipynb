{
 "cells": [
  {
   "cell_type": "markdown",
   "id": "78cee78b",
   "metadata": {},
   "source": [
    "# ICESat-2 Mission Overview\n",
    "\n",
    "## Author(s)\n",
    "\n",
    "Tyler Sutterley\n",
    "\n",
    "## Existing Notebooks\n",
    "\n",
    "[Mission Overview - 2024 ICESat-2 hackweek](https://github.com/ICESAT-2HackWeek/website-2024/blob/main/book/tutorials/mission-overview/icesat-2-mission-overview.ipynb)\n",
    "\n",
    "## Learning Outcomes\n",
    "\n",
    "* understand the technology used to acquire ICESat-2 data products and how that\n",
    "informs data coverage, resolution and frequency\n",
    "\n",
    "* learn about the hierarchy of data products and the factors influencing \n",
    "decisions on which products to use\n"
   ]
  }
 ],
 "metadata": {
  "language_info": {
   "name": "python"
  }
 },
 "nbformat": 4,
 "nbformat_minor": 5
}
