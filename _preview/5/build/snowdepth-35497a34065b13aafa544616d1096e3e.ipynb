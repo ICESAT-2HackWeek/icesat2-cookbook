{
 "cells": [
  {
   "cell_type": "markdown",
   "id": "c5185c84",
   "metadata": {},
   "source": [
    "# Snowdepth Applications\n",
    "\n",
    "## Author(s)\n",
    "\n",
    "Karina Zikan\n",
    "\n",
    "## Existing Notebooks\n",
    "\n",
    "[Snowdepth Applications](https://icesat-2-2023.hackweek.io/tutorials/snow-depth/applications-tutorial-snow-depth.html)\n",
    "\n",
    "## Learning Outcomes\n",
    "\n",
    "* gain experience in working with SlideRule to access and pre-process ICESat-2 \n",
    "data\n",
    "* learn how use projections and interpolation to compare ICESat-2 track data \n",
    "with gridded raster products\n",
    "* develop a general understanding of how to measure snow depths with LiDAR, \n",
    "and learn about opportunities and challenges when using ICEsat-2 along-track\n",
    "products\n",
    "\n",
    "### Notes\n",
    "\n",
    "\n"
   ]
  },
  {
   "cell_type": "markdown",
   "id": "af4cf5af",
   "metadata": {},
   "source": []
  }
 ],
 "metadata": {
  "language_info": {
   "name": "python"
  }
 },
 "nbformat": 4,
 "nbformat_minor": 5
}
