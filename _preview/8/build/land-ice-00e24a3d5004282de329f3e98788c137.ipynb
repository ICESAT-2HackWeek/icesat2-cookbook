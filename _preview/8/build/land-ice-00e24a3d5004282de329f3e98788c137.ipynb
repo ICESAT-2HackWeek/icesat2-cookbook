{
 "cells": [
  {
   "cell_type": "markdown",
   "id": "c5185c84",
   "metadata": {},
   "source": [
    "# Land Ice Applications\n",
    "\n",
    "## Author(s)\n",
    "\n",
    "Ben Smith\n",
    "\n",
    "## Existing Notebooks\n",
    "\n",
    "[Land Ice Applications](https://github.com/ICESAT-2HackWeek/Land_Ice_Applications/blob/master/notebooks/land_ice_applications.ipynb)\n",
    "\n",
    "## Learning Outcomes\n",
    "\n",
    "* learn how ice-sheet surfaces are represented by ATL03 photons\n",
    "* learn how ATL06 elevations correspond to ATL03 photon clouds\n",
    "* learn how small-scale features appear in ATL06\n",
    "* understand the repeat structure of ATL06\n",
    "* understand how cross-track slope can affect elevation differences \n",
    "\n",
    "### Notes\n",
    "\n"
   ]
  },
  {
   "cell_type": "markdown",
   "id": "af4cf5af",
   "metadata": {},
   "source": []
  }
 ],
 "metadata": {
  "language_info": {
   "name": "python"
  }
 },
 "nbformat": 4,
 "nbformat_minor": 5
}
