{
 "cells": [
  {
   "cell_type": "markdown",
   "id": "78cee78b",
   "metadata": {},
   "source": [
    "# Data Visualization \n",
    "\n",
    "## Author(s)\n",
    "\n",
    "Philipp Arndt\n",
    "\n",
    "## Existing Notebooks\n",
    "\n",
    "[Visualization with Google Earth Engine](https://icesat-2-2023.hackweek.io/tutorials/DataVisualization/OpenAltimetry_Earth_Engine.html)\n",
    "\n",
    "## Learning Outcomes\n",
    "\n",
    "* Discover some interesting ICESat-2 data by browsing OpenAltimetry\n",
    "\n",
    "* Get the data into a Jupyter Notebook, plot it and overlay the ground track on a map\n",
    "\n",
    "* Use Google Earth Engine to find the closest-in-time Sentinel-2 image that is cloud-free along ICESat-2’s ground track\n",
    "\n",
    "* Make a plot from ICESat-2 data and contemporaneous imagery in Jupyter/matplotlib\n",
    "\n",
    "* Bonus Code: Use Google Earth Engine to extract Sentinel-2 data along the ICESat-2 ground track\n",
    "\n",
    "### Notes\n",
    "\n"
   ]
  },
  {
   "cell_type": "markdown",
   "id": "ebfbe474",
   "metadata": {},
   "source": []
  }
 ],
 "metadata": {
  "language_info": {
   "name": "python"
  }
 },
 "nbformat": 4,
 "nbformat_minor": 5
}
