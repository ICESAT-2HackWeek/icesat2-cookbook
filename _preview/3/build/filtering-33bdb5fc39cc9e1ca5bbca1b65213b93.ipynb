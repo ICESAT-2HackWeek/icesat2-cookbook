{
 "cells": [
  {
   "cell_type": "markdown",
   "id": "78cee78b",
   "metadata": {},
   "source": [
    "# Data Filtering \n",
    "\n",
    "## Author(s)\n",
    "\n",
    "Ben Smith\n",
    "\n",
    "## Existing Notebooks\n",
    "\n",
    "[Clouds and Data Filtering](https://github.com/ICESAT-2HackWeek/Clouds_and_data_filtering/blob/master/notebooks/Clouds_and_data_quality_rendered.ipynb)\n",
    "\n",
    "## Learning Outcomes\n",
    "\n",
    "* Understanding how clouds affect laser-altimetry signals\n",
    "\n",
    "* Recognizing how these effects are manifest in the ATL06 product\n",
    "\n",
    "* Gaining familiarity with the ATL06 parameters that can identify cloudy \n",
    "returns This part of the tutorial will focus on clouds that cause gross \n",
    "errors in surface-height estimates.\n",
    "\n",
    "### Notes\n",
    "\n"
   ]
  },
  {
   "cell_type": "markdown",
   "id": "ebfbe474",
   "metadata": {},
   "source": []
  }
 ],
 "metadata": {
  "language_info": {
   "name": "python"
  }
 },
 "nbformat": 4,
 "nbformat_minor": 5
}
