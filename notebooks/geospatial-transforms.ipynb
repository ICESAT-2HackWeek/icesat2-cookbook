{
 "cells": [
  {
   "cell_type": "markdown",
   "id": "78cee78b",
   "metadata": {},
   "source": [
    "# Geospatial Transforms \n",
    "\n",
    "## Author(s)\n",
    "\n",
    "Tyler Sutterley, Hannah Besso, Scott Henderson, David Shean\n",
    "\n",
    "## Existing Notebooks\n",
    "\n",
    "[Geospatial Transforms](https://icesat-2-2022.hackweek.io/tutorials/geospatial/geospatial-intro.html)\n",
    "\n",
    "## Learning Outcomes\n",
    "\n",
    "* Review fundamental concepts of geospatial coordinate reference systems (CRS)\n",
    "\n",
    "* Learn how to access CRS metadata\n",
    "\n",
    "* Learn basic coordinate transformations relevant to ICESat-2\n",
    "\n",
    "### Notes\n",
    "\n",
    "Wondering if some of this could be added to Pythia Foundations notebooks. \n",
    "The \"relevance to ICESat-2\" content seems particularly valuable.\n"
   ]
  },
  {
   "cell_type": "markdown",
   "id": "ebfbe474",
   "metadata": {},
   "source": []
  }
 ],
 "metadata": {
  "language_info": {
   "name": "python"
  }
 },
 "nbformat": 4,
 "nbformat_minor": 5
}
