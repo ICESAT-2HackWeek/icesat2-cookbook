{
 "cells": [
  {
   "cell_type": "markdown",
   "id": "ca75955d-c7f8-4b65-8d46-de3f29924226",
   "metadata": {},
   "source": [
    "# Land-ice products\n",
    "\n",
    "## Author(s)\n",
    "\n",
    "Ben Smith\n",
    "\n",
    "## Existing Notebooks\n",
    "\n",
    "[Higher-level products](https://icesat-2-2022.hackweek.io/tutorials/DataProducts/DataProducts.html)\n",
    "\n",
    "## Learning Outcomes\n",
    "\n",
    "* Demonstrate basic HDF-5 product structures of ICESat-2 standard data products\n",
    "\n",
    "* Demonstrate the flow of information from the lowest-level products to the highest-level products (or vice versa)\n",
    "\n",
    "* Data search using geographic regions and file names using icePyx\n",
    "\n",
    "* File-level data access from NSIDC\n",
    "\n",
    "* Photon data access using SlideRule\n",
    "\n",
    "\n",
    "### Notes\n",
    "\n",
    "This tutorial is likely to be easer to bring into modern form than the land-ice tutorial listed above.  It's also a much better tutorial IMO.\n",
    "\n"
   ]
  },
  {
   "cell_type": "code",
   "execution_count": null,
   "id": "a173f920-59c8-4ac4-9735-bfde67e23ddf",
   "metadata": {},
   "outputs": [],
   "source": []
  }
 ],
 "metadata": {
  "kernelspec": {
   "display_name": "Python 3 (ipykernel)",
   "language": "python",
   "name": "python3"
  },
  "language_info": {
   "codemirror_mode": {
    "name": "ipython",
    "version": 3
   },
   "file_extension": ".py",
   "mimetype": "text/x-python",
   "name": "python",
   "nbconvert_exporter": "python",
   "pygments_lexer": "ipython3",
   "version": "3.11.11"
  }
 },
 "nbformat": 4,
 "nbformat_minor": 5
}
