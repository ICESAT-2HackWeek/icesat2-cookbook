{
 "cells": [
  {
   "cell_type": "markdown",
   "id": "c5185c84",
   "metadata": {},
   "source": [
    "# Snow Depth Applications\n",
    "\n",
    "## Author(s)\n",
    "\n",
    "Karina Zikan, Zach Fair\n",
    "\n",
    "## Existing Notebooks\n",
    "\n",
    "[Snow Depth Applications](https://icesat-2-2023.hackweek.io/tutorials/snow-depth/applications-tutorial-snow-depth.html)\n",
    "\n",
    "## Learning Outcomes\n",
    "\n",
    "* Gain experience in working with SlideRule to access and pre-process ICESat-2 \n",
    "data\n",
    "* Learn how to use projections and interpolation to compare ICESat-2 track data \n",
    "with gridded raster products\n",
    "* Develop a general understanding of how to measure snow depths with LiDAR, \n",
    "and learn about opportunities and challenges when using ICEsat-2 along-track\n",
    "products\n"
   ]
  },
  {
   "cell_type": "markdown",
   "id": "af4cf5af",
   "metadata": {},
   "source": [
    "## Background\n",
    "### How do we measure snow depth with LiDAR?\n",
    "LiDAR is a useful tool for collecting high resolution snow depth maps over large spatial areas.\n",
    "\n",
    "Snow depth is measured from LiDAR by differencing a snow-free LiDAR map from a snow-covered LiDAR map of the same area of interest."
   ]
  },
  {
   "cell_type": "markdown",
   "id": "6d06a484-5889-4969-9461-befce113422f",
   "metadata": {},
   "source": [
    "TODO: Insert Figure 6 from Deems et al. here"
   ]
  },
  {
   "cell_type": "markdown",
   "id": "b69fb7f5-3a2e-4764-bebc-205e5a31caca",
   "metadata": {},
   "source": [
    "TODO: Insert Figure 7b from Deems et al"
   ]
  },
  {
   "cell_type": "markdown",
   "id": "9748c3f4-54f4-4fe1-a2a4-53b256b9c24d",
   "metadata": {},
   "source": [
    "### Can we do this with ICESat-2?\n",
    "Yes! By differencing snow-covered ICESat-2 transects from snow-free maps, we can calculate snow depth!\n",
    "\n",
    "Performing the calculation with ICESat-2 is a little different from other LiDAR snow depth methods, given that ICESat-2 is a transect of points rather than gridded raster data. ICESat-2 also has sparse coverage in the mid-latitudes, so generating an effective snow-covered or snow-free map will be difficult.\n",
    "\n",
    "Because of these limitations, we need an independently-collected snow-free map of a region of interest for comparison. We also need to process the snow-free data into a form that can be differenced from snow-on ICESat-2 data.\n",
    "\n",
    "In this tutorial, we will show an example of how to compare ICESat-2 data to raster data."
   ]
  },
  {
   "cell_type": "markdown",
   "id": "baff79cf-0ee9-46a6-9f00-d36a1713403b",
   "metadata": {},
   "source": [
    "TODO: Add Karina's image over Dry Creek"
   ]
  },
  {
   "cell_type": "markdown",
   "id": "125c2599-af50-4e2d-9a58-f51412df941c",
   "metadata": {},
   "source": [
    "### What do we need to calculate snow depth from ICESat-2?\n",
    "1. A region of interest, where snow-free (and snow-covered, for validation) digital elevation models (DEMs) are available.\n",
    "2. ICESat-2 data, ideally from one of the lower-level products (ATL03, ATL06, ATL08, Sliderule Earth).\n",
    "3. A snow-free reference DEM for the snow depth calculation."
   ]
  },
  {
   "cell_type": "markdown",
   "id": "93692296-f89a-49b1-b785-a3dc6371ad01",
   "metadata": {},
   "source": [
    "### What do we need to consider when comparing ICESat-2 and raster data?\n",
    "**Geolocation**: To obtain usable results, it is important that we properly align the snow-free raster data with ICESat-2. Even small offsets can create large errors that worsen in rugged terrain.\n",
    "\n",
    "TODO: Add Figure 9 from Nuth and Kabb\n",
    "\n",
    "**Vegetation**: Incorrectly categorized vegetation returns can positively bias ground or snow surface height estimation. Additionally, dense vegetation can reduce the number of photon returns, thereby increasing uncertainty in our height estimates.\n",
    "\n",
    "**Slope Effects**: Rugged terrain increases uncertainty in ICESat-2 returns and increases the impact of geolocation offsets between ICESat-2 and raster data. Additionally, steep slopes can negatively bias ground or snow surface height estimates."
   ]
  },
  {
   "cell_type": "markdown",
   "id": "e8d4c1f0-3aac-4da9-b8d9-93692716675b",
   "metadata": {},
   "source": [
    "### Computing Environment\n",
    "We'll be using the following open source Python libraries in this notebook:"
   ]
  },
  {
   "cell_type": "code",
   "execution_count": 1,
   "id": "cf5120c0-3d53-4023-96e7-469b7b536287",
   "metadata": {},
   "outputs": [],
   "source": [
    "import numpy as np\n",
    "import pandas as pd\n",
    "import geopandas as gpd\n",
    "import rioxarray as rxr\n",
    "import matplotlib.pyplot as plt\n",
    "from sliderule import icesat2\n",
    "from scipy.interpolate import RectBivariateSpline"
   ]
  },
  {
   "cell_type": "markdown",
   "id": "1cdd689c-5db6-4ef7-a610-d20141e6304e",
   "metadata": {},
   "source": [
    "### Data\n",
    "We will use SlideRule to acquire customized ATL06 data. Specific customizations that we will implement include footprint averaging (i.e., along-track sampling rate) and photon identification (signal/noise and ground/vegetation).\n",
    "\n",
    "We will look at snow depth data over Upper Kuparuk/Toolik (UKT) on the Arctic North Slope of Alaska. Because UKT is a relatively flat region with little vegetation, we should expect good agreement between ICESat-2 and our rasters of interest."
   ]
  },
  {
   "cell_type": "markdown",
   "id": "055c909d-98e7-440d-bf1f-f81164a6b505",
   "metadata": {},
   "source": [
    "### Initialize SlideRule"
   ]
  },
  {
   "cell_type": "code",
   "execution_count": 2,
   "id": "b71e880a-4092-4be0-a642-fd3f21cb9cf7",
   "metadata": {},
   "outputs": [],
   "source": [
    "icesat2.init(\"slideruleearth.io\")"
   ]
  },
  {
   "cell_type": "markdown",
   "id": "b99d6a1e-e4ca-44e9-8ca2-f89d3cdc8713",
   "metadata": {},
   "source": [
    "### Define Region of Interest\n",
    "After we initialize SlideRule, we define our region of interest. Notice that there are two options given below. This is because SlideRule accepts either the coordinates of a box/polygon or a geoJSON for its `region` input.\n",
    "\n",
    "We are going to use the bounding box method in this tutorial, but the syntax for the geoJSON method is included for the user's reference."
   ]
  },
  {
   "cell_type": "code",
   "execution_count": null,
   "id": "c8c278dc-90a9-4d37-a2b6-807648450001",
   "metadata": {},
   "outputs": [],
   "source": [
    "# Define region of interest over Toolik, Alaska\n"
   ]
  }
 ],
 "metadata": {
  "kernelspec": {
   "display_name": "Python 3 (ipykernel)",
   "language": "python",
   "name": "python3"
  },
  "language_info": {
   "codemirror_mode": {
    "name": "ipython",
    "version": 3
   },
   "file_extension": ".py",
   "mimetype": "text/x-python",
   "name": "python",
   "nbconvert_exporter": "python",
   "pygments_lexer": "ipython3",
   "version": "3.11.11"
  }
 },
 "nbformat": 4,
 "nbformat_minor": 5
}
